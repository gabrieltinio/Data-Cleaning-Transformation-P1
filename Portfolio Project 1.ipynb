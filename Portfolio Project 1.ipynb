{
 "cells": [
  {
   "cell_type": "markdown",
   "id": "c976cfe1-5bf1-4d45-9bec-9531d0b5ca69",
   "metadata": {},
   "source": [
    "Project 1 - Data Cleaning and Transformation"
   ]
  },
  {
   "cell_type": "markdown",
   "id": "73350b02-4c0c-4e5e-9bdc-a0cb8b5be12d",
   "metadata": {},
   "source": [
    "Project Purpose\n",
    "- To perform data cleaning and transformation on public datasets using Python\n",
    "- Answer the following questions using this dataset: https://www.kaggle.com/datasets/gregorut/videogamesales?resource=download\n",
    "\n",
    "Guiding Questions\n",
    "- Can you manipulate the dataset to show the cumulative NA_Sales and EU_Sales by platform in 2020?\n",
    "- Is the Year column in the correct type? If not, let's convert it to the correct type.\n",
    "- Can you manipulate the dataset to show the top 25 games by North American sales with a release date of 2010 onwards?"
   ]
  },
  {
   "cell_type": "code",
   "execution_count": 1,
   "id": "a90ca262-4e78-4da4-aa80-605809ee64d1",
   "metadata": {
    "scrolled": true
   },
   "outputs": [
    {
     "name": "stdout",
     "output_type": "stream",
     "text": [
      "Requirement already satisfied: pandas in c:\\users\\gab\\anaconda3\\lib\\site-packages (2.2.2)\n",
      "Requirement already satisfied: numpy>=1.26.0 in c:\\users\\gab\\anaconda3\\lib\\site-packages (from pandas) (1.26.4)\n",
      "Requirement already satisfied: python-dateutil>=2.8.2 in c:\\users\\gab\\anaconda3\\lib\\site-packages (from pandas) (2.9.0.post0)\n",
      "Requirement already satisfied: pytz>=2020.1 in c:\\users\\gab\\anaconda3\\lib\\site-packages (from pandas) (2024.1)\n",
      "Requirement already satisfied: tzdata>=2022.7 in c:\\users\\gab\\anaconda3\\lib\\site-packages (from pandas) (2023.3)\n",
      "Requirement already satisfied: six>=1.5 in c:\\users\\gab\\anaconda3\\lib\\site-packages (from python-dateutil>=2.8.2->pandas) (1.16.0)\n"
     ]
    }
   ],
   "source": [
    "#Install pandas and import the module\n",
    "!pip install pandas\n",
    "import pandas as pd"
   ]
  },
  {
   "cell_type": "code",
   "execution_count": 2,
   "id": "7e53bdee-a8de-43a8-8625-c27aab3970b1",
   "metadata": {
    "scrolled": true
   },
   "outputs": [],
   "source": [
    "#Read the csv and print it to view the columns of the dataset\n",
    "df = pd.read_csv('vgsales.csv')"
   ]
  },
  {
   "cell_type": "markdown",
   "id": "14b2444d-7295-4100-9801-3b8de6f5f4b2",
   "metadata": {},
   "source": [
    "QUESTION 1:\n",
    "Can you manipulate the dataset to show the cumulative sales by platform for each year?"
   ]
  },
  {
   "cell_type": "code",
   "execution_count": 3,
   "id": "2e6a18bb-ba02-4331-b544-25f0567a00de",
   "metadata": {},
   "outputs": [
    {
     "name": "stdout",
     "output_type": "stream",
     "text": [
      "        Rank                                              Name Platform  \\\n",
      "0          1                                        Wii Sports      Wii   \n",
      "1          2                                 Super Mario Bros.      NES   \n",
      "2          3                                    Mario Kart Wii      Wii   \n",
      "3          4                                 Wii Sports Resort      Wii   \n",
      "4          5                          Pokemon Red/Pokemon Blue       GB   \n",
      "...      ...                                               ...      ...   \n",
      "16593  16596                Woody Woodpecker in Crazy Castle 5      GBA   \n",
      "16594  16597                     Men in Black II: Alien Escape       GC   \n",
      "16595  16598  SCORE International Baja 1000: The Official Game      PS2   \n",
      "16596  16599                                        Know How 2       DS   \n",
      "16597  16600                                  Spirits & Spells      GBA   \n",
      "\n",
      "         Year         Genre   Publisher  NA_Sales  EU_Sales  JP_Sales  \\\n",
      "0      2006.0        Sports    Nintendo     41.49     29.02      3.77   \n",
      "1      1985.0      Platform    Nintendo     29.08      3.58      6.81   \n",
      "2      2008.0        Racing    Nintendo     15.85     12.88      3.79   \n",
      "3      2009.0        Sports    Nintendo     15.75     11.01      3.28   \n",
      "4      1996.0  Role-Playing    Nintendo     11.27      8.89     10.22   \n",
      "...       ...           ...         ...       ...       ...       ...   \n",
      "16593  2002.0      Platform       Kemco      0.01      0.00      0.00   \n",
      "16594  2003.0       Shooter  Infogrames      0.01      0.00      0.00   \n",
      "16595  2008.0        Racing  Activision      0.00      0.00      0.00   \n",
      "16596  2010.0        Puzzle    7G//AMES      0.00      0.01      0.00   \n",
      "16597  2003.0      Platform     Wanadoo      0.01      0.00      0.00   \n",
      "\n",
      "       Other_Sales  Global_Sales  NAEU_Sales  \n",
      "0             8.46         82.74       70.51  \n",
      "1             0.77         40.24       32.66  \n",
      "2             3.31         35.82       28.73  \n",
      "3             2.96         33.00       26.76  \n",
      "4             1.00         31.37       20.16  \n",
      "...            ...           ...         ...  \n",
      "16593         0.00          0.01        0.01  \n",
      "16594         0.00          0.01        0.01  \n",
      "16595         0.00          0.01        0.00  \n",
      "16596         0.00          0.01        0.01  \n",
      "16597         0.00          0.01        0.01  \n",
      "\n",
      "[16598 rows x 12 columns]\n"
     ]
    }
   ],
   "source": [
    "#Create a new column within the dataset\n",
    "df['NAEU_Sales'] = df['NA_Sales'] + df['EU_Sales']\n",
    "\n",
    "#Check the dataset to ensure our new column is added\n",
    "print(df)"
   ]
  },
  {
   "cell_type": "code",
   "execution_count": 4,
   "id": "161dd379-88f7-439e-8488-cc763a56300b",
   "metadata": {},
   "outputs": [
    {
     "name": "stdout",
     "output_type": "stream",
     "text": [
      "Platform\n",
      "2600     96.07\n",
      "3DO       0.00\n",
      "3DS     137.39\n",
      "DC        7.12\n",
      "DS      585.36\n",
      "GB      162.14\n",
      "GBA     262.79\n",
      "GC      172.17\n",
      "GEN      24.79\n",
      "GG        0.00\n",
      "N64     180.08\n",
      "NES     147.09\n",
      "NG        0.00\n",
      "PC      232.96\n",
      "PCFX      0.00\n",
      "PS      550.11\n",
      "PS2     923.13\n",
      "PS3     735.97\n",
      "PS4     220.50\n",
      "PSP     177.24\n",
      "PSV      32.53\n",
      "SAT       1.26\n",
      "SCD       1.36\n",
      "SNES     80.27\n",
      "TG16      0.00\n",
      "WS        0.00\n",
      "Wii     776.09\n",
      "WiiU     62.55\n",
      "X360    881.63\n",
      "XB      247.64\n",
      "XOne    128.84\n",
      "Name: NAEU_Sales, dtype: float64\n"
     ]
    }
   ],
   "source": [
    "#Now we want to group by platform and by year while showing the new variable NAEU_Sales\n",
    "grouped = df.groupby(['Platform'])['NAEU_Sales'].sum()\n",
    "print(grouped)"
   ]
  },
  {
   "cell_type": "markdown",
   "id": "c25c107d-c208-4e1f-815e-269cbf4b0f94",
   "metadata": {},
   "source": [
    "QUESTION 2: Is the Year column in the correct type? If not, let's convert it to the correct type."
   ]
  },
  {
   "cell_type": "code",
   "execution_count": 5,
   "id": "44cce51d-83a0-459a-9c27-73684890d073",
   "metadata": {},
   "outputs": [
    {
     "name": "stdout",
     "output_type": "stream",
     "text": [
      "float64\n"
     ]
    }
   ],
   "source": [
    "#First let's check the type of the 'Year' column\n",
    "print(df['Year'].dtype)"
   ]
  },
  {
   "cell_type": "code",
   "execution_count": 6,
   "id": "1d360b6d-32b3-4e28-969c-3132103cea4e",
   "metadata": {},
   "outputs": [
    {
     "name": "stdout",
     "output_type": "stream",
     "text": [
      "int32\n"
     ]
    }
   ],
   "source": [
    "#We see that this returns float64 - typically Year is more recognized as an integer since it is a whole number\n",
    "\n",
    "#I need to ensure that anything that has NA values is replaced with a \"0\" to be able to adjust the column value type to int\n",
    "df['Year'] = df['Year'].fillna(0)\n",
    "\n",
    "#Convert Year to an integer \n",
    "df['Year'] = df['Year'].astype(int)\n",
    "#This command returned the following error: Cannot convert non-finite values (NA or inf) to integer\n",
    "\n",
    "#Ensure the new type is integer\n",
    "print(df['Year'].dtype)"
   ]
  },
  {
   "cell_type": "markdown",
   "id": "5e4e5f2f-c0c7-464c-8993-bb6449ad48ce",
   "metadata": {},
   "source": [
    "QUESTION 3: Can you manipulate the dataset to show the top 25 games by North American sales with a release date of 2010 onwards?"
   ]
  },
  {
   "cell_type": "code",
   "execution_count": 7,
   "id": "d6bd8c56-637a-4b72-abec-f86dd8d5e2ae",
   "metadata": {},
   "outputs": [
    {
     "data": {
      "text/html": [
       "<div>\n",
       "<style scoped>\n",
       "    .dataframe tbody tr th:only-of-type {\n",
       "        vertical-align: middle;\n",
       "    }\n",
       "\n",
       "    .dataframe tbody tr th {\n",
       "        vertical-align: top;\n",
       "    }\n",
       "\n",
       "    .dataframe thead th {\n",
       "        text-align: right;\n",
       "    }\n",
       "</style>\n",
       "<table border=\"1\" class=\"dataframe\">\n",
       "  <thead>\n",
       "    <tr style=\"text-align: right;\">\n",
       "      <th></th>\n",
       "      <th>Name</th>\n",
       "      <th>Year</th>\n",
       "      <th>NA_Sales</th>\n",
       "    </tr>\n",
       "  </thead>\n",
       "  <tbody>\n",
       "    <tr>\n",
       "      <th>15</th>\n",
       "      <td>Kinect Adventures!</td>\n",
       "      <td>2010</td>\n",
       "      <td>14.97</td>\n",
       "    </tr>\n",
       "    <tr>\n",
       "      <th>31</th>\n",
       "      <td>Call of Duty: Black Ops</td>\n",
       "      <td>2010</td>\n",
       "      <td>9.67</td>\n",
       "    </tr>\n",
       "    <tr>\n",
       "      <th>23</th>\n",
       "      <td>Grand Theft Auto V</td>\n",
       "      <td>2013</td>\n",
       "      <td>9.63</td>\n",
       "    </tr>\n",
       "    <tr>\n",
       "      <th>29</th>\n",
       "      <td>Call of Duty: Modern Warfare 3</td>\n",
       "      <td>2011</td>\n",
       "      <td>9.03</td>\n",
       "    </tr>\n",
       "    <tr>\n",
       "      <th>35</th>\n",
       "      <td>Call of Duty: Black Ops II</td>\n",
       "      <td>2012</td>\n",
       "      <td>8.25</td>\n",
       "    </tr>\n",
       "    <tr>\n",
       "      <th>62</th>\n",
       "      <td>Halo: Reach</td>\n",
       "      <td>2010</td>\n",
       "      <td>7.03</td>\n",
       "    </tr>\n",
       "    <tr>\n",
       "      <th>16</th>\n",
       "      <td>Grand Theft Auto V</td>\n",
       "      <td>2013</td>\n",
       "      <td>7.01</td>\n",
       "    </tr>\n",
       "    <tr>\n",
       "      <th>61</th>\n",
       "      <td>Call of Duty: Ghosts</td>\n",
       "      <td>2013</td>\n",
       "      <td>6.72</td>\n",
       "    </tr>\n",
       "    <tr>\n",
       "      <th>65</th>\n",
       "      <td>Halo 4</td>\n",
       "      <td>2012</td>\n",
       "      <td>6.63</td>\n",
       "    </tr>\n",
       "    <tr>\n",
       "      <th>60</th>\n",
       "      <td>Just Dance 3</td>\n",
       "      <td>2011</td>\n",
       "      <td>6.05</td>\n",
       "    </tr>\n",
       "    <tr>\n",
       "      <th>40</th>\n",
       "      <td>Call of Duty: Black Ops</td>\n",
       "      <td>2010</td>\n",
       "      <td>5.98</td>\n",
       "    </tr>\n",
       "    <tr>\n",
       "      <th>68</th>\n",
       "      <td>Just Dance 2</td>\n",
       "      <td>2010</td>\n",
       "      <td>5.84</td>\n",
       "    </tr>\n",
       "    <tr>\n",
       "      <th>33</th>\n",
       "      <td>Call of Duty: Black Ops 3</td>\n",
       "      <td>2015</td>\n",
       "      <td>5.77</td>\n",
       "    </tr>\n",
       "    <tr>\n",
       "      <th>72</th>\n",
       "      <td>Minecraft</td>\n",
       "      <td>2013</td>\n",
       "      <td>5.58</td>\n",
       "    </tr>\n",
       "    <tr>\n",
       "      <th>26</th>\n",
       "      <td>Pokemon Black/Pokemon White</td>\n",
       "      <td>2010</td>\n",
       "      <td>5.57</td>\n",
       "    </tr>\n",
       "    <tr>\n",
       "      <th>37</th>\n",
       "      <td>Call of Duty: Modern Warfare 3</td>\n",
       "      <td>2011</td>\n",
       "      <td>5.54</td>\n",
       "    </tr>\n",
       "    <tr>\n",
       "      <th>32</th>\n",
       "      <td>Pokemon X/Pokemon Y</td>\n",
       "      <td>2013</td>\n",
       "      <td>5.17</td>\n",
       "    </tr>\n",
       "    <tr>\n",
       "      <th>75</th>\n",
       "      <td>The Elder Scrolls V: Skyrim</td>\n",
       "      <td>2011</td>\n",
       "      <td>5.03</td>\n",
       "    </tr>\n",
       "    <tr>\n",
       "      <th>34</th>\n",
       "      <td>Call of Duty: Black Ops II</td>\n",
       "      <td>2012</td>\n",
       "      <td>4.99</td>\n",
       "    </tr>\n",
       "    <tr>\n",
       "      <th>53</th>\n",
       "      <td>Super Mario 3D Land</td>\n",
       "      <td>2011</td>\n",
       "      <td>4.89</td>\n",
       "    </tr>\n",
       "    <tr>\n",
       "      <th>42</th>\n",
       "      <td>Mario Kart 7</td>\n",
       "      <td>2011</td>\n",
       "      <td>4.74</td>\n",
       "    </tr>\n",
       "    <tr>\n",
       "      <th>101</th>\n",
       "      <td>Call of Duty: Black Ops 3</td>\n",
       "      <td>2015</td>\n",
       "      <td>4.52</td>\n",
       "    </tr>\n",
       "    <tr>\n",
       "      <th>99</th>\n",
       "      <td>Battlefield 3</td>\n",
       "      <td>2011</td>\n",
       "      <td>4.46</td>\n",
       "    </tr>\n",
       "    <tr>\n",
       "      <th>49</th>\n",
       "      <td>Pokemon Omega Ruby/Pokemon Alpha Sapphire</td>\n",
       "      <td>2014</td>\n",
       "      <td>4.23</td>\n",
       "    </tr>\n",
       "    <tr>\n",
       "      <th>111</th>\n",
       "      <td>Just Dance 4</td>\n",
       "      <td>2012</td>\n",
       "      <td>4.14</td>\n",
       "    </tr>\n",
       "  </tbody>\n",
       "</table>\n",
       "</div>"
      ],
      "text/plain": [
       "                                          Name  Year  NA_Sales\n",
       "15                          Kinect Adventures!  2010     14.97\n",
       "31                     Call of Duty: Black Ops  2010      9.67\n",
       "23                          Grand Theft Auto V  2013      9.63\n",
       "29              Call of Duty: Modern Warfare 3  2011      9.03\n",
       "35                  Call of Duty: Black Ops II  2012      8.25\n",
       "62                                 Halo: Reach  2010      7.03\n",
       "16                          Grand Theft Auto V  2013      7.01\n",
       "61                        Call of Duty: Ghosts  2013      6.72\n",
       "65                                      Halo 4  2012      6.63\n",
       "60                                Just Dance 3  2011      6.05\n",
       "40                     Call of Duty: Black Ops  2010      5.98\n",
       "68                                Just Dance 2  2010      5.84\n",
       "33                   Call of Duty: Black Ops 3  2015      5.77\n",
       "72                                   Minecraft  2013      5.58\n",
       "26                 Pokemon Black/Pokemon White  2010      5.57\n",
       "37              Call of Duty: Modern Warfare 3  2011      5.54\n",
       "32                         Pokemon X/Pokemon Y  2013      5.17\n",
       "75                 The Elder Scrolls V: Skyrim  2011      5.03\n",
       "34                  Call of Duty: Black Ops II  2012      4.99\n",
       "53                         Super Mario 3D Land  2011      4.89\n",
       "42                                Mario Kart 7  2011      4.74\n",
       "101                  Call of Duty: Black Ops 3  2015      4.52\n",
       "99                               Battlefield 3  2011      4.46\n",
       "49   Pokemon Omega Ruby/Pokemon Alpha Sapphire  2014      4.23\n",
       "111                               Just Dance 4  2012      4.14"
      ]
     },
     "execution_count": 7,
     "metadata": {},
     "output_type": "execute_result"
    }
   ],
   "source": [
    "#Create a new dataset that only contains records with games released in the Year 2010 or later\n",
    "df2010 = df[df['Year'] >= 2010]\n",
    "\n",
    "#Show the top 25 ranking games by North American Sales (NA_Sales)\n",
    "df2010.nlargest(25, 'NA_Sales')\n",
    "\n",
    "#Do the same thing but drop the unecessary columns\n",
    "df2010.nlargest(25, 'NA_Sales').loc[:, ['Name', 'Year', 'NA_Sales']]"
   ]
  }
 ],
 "metadata": {
  "kernelspec": {
   "display_name": "Python [conda env:base] *",
   "language": "python",
   "name": "conda-base-py"
  },
  "language_info": {
   "codemirror_mode": {
    "name": "ipython",
    "version": 3
   },
   "file_extension": ".py",
   "mimetype": "text/x-python",
   "name": "python",
   "nbconvert_exporter": "python",
   "pygments_lexer": "ipython3",
   "version": "3.12.7"
  }
 },
 "nbformat": 4,
 "nbformat_minor": 5
}
